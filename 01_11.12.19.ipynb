{
 "cells": [
  {
   "cell_type": "markdown",
   "metadata": {},
   "source": [
    "# Nov. 12, 2019 | Jupyter Notebook Usage"
   ]
  },
  {
   "cell_type": "markdown",
   "metadata": {},
   "source": [
    "Creating cells, formatting and introduction to use.\n",
    "\n",
    "Cell types:\n",
    "1. Markdown - Text field\n",
    "2. Heading - Title field\n",
    "3. Code - programmable field, executes code inside of field and displays under it."
   ]
  },
  {
   "cell_type": "code",
   "execution_count": 1,
   "metadata": {},
   "outputs": [
    {
     "name": "stdout",
     "output_type": "stream",
     "text": [
      "Hello World\n"
     ]
    }
   ],
   "source": [
    "print(\"Hello World\")"
   ]
  },
  {
   "cell_type": "code",
   "execution_count": 2,
   "metadata": {},
   "outputs": [
    {
     "name": "stdout",
     "output_type": "stream",
     "text": [
      "2\n"
     ]
    }
   ],
   "source": [
    "print(1+1)"
   ]
  },
  {
   "cell_type": "markdown",
   "metadata": {},
   "source": [
    "# Python Programming Platforms"
   ]
  },
  {
   "cell_type": "markdown",
   "metadata": {},
   "source": [
    "1. Spyder (Dev-C++ Alternative for Python programming language)\n",
    "2. Python Shell - Found in Anaconda Navigator\n",
    "3. base terminal - Found under environment tab in Anaconda Navigator\n",
    "4. Jupyter notebook - set cell format to \"Code\""
   ]
  },
  {
   "cell_type": "markdown",
   "metadata": {},
   "source": [
    "### ----------ACTIVITY----------"
   ]
  },
  {
   "cell_type": "markdown",
   "metadata": {},
   "source": [
    "Installation of Anaconda Navigator, Spyder, and other Utilities required for CPE009.\n",
    "https://tinyurl.com/CPE009-Act1\n",
    "\n",
    "1. Screenshot and explain the step-by-step process.\n",
    "2. Explain and briefly discuss your answers for questions 1 to 5.\n",
    "3. Save your work as PDF\n",
    "4. Create your own folder on our google drive (Folder name: SURNAME)\n",
    "5. Upload your work\n",
    "\n",
    "File name: SURNAME_CPE009_Act1"
   ]
  },
  {
   "cell_type": "code",
   "execution_count": 3,
   "metadata": {},
   "outputs": [
    {
     "name": "stdout",
     "output_type": "stream",
     "text": [
      "Python is everywhere!\n"
     ]
    }
   ],
   "source": [
    "print(\"Python is everywhere!\")"
   ]
  },
  {
   "cell_type": "code",
   "execution_count": null,
   "metadata": {},
   "outputs": [],
   "source": []
  }
 ],
 "metadata": {
  "kernelspec": {
   "display_name": "Python 3",
   "language": "python",
   "name": "python3"
  },
  "language_info": {
   "codemirror_mode": {
    "name": "ipython",
    "version": 3
   },
   "file_extension": ".py",
   "mimetype": "text/x-python",
   "name": "python",
   "nbconvert_exporter": "python",
   "pygments_lexer": "ipython3",
   "version": "3.7.3"
  }
 },
 "nbformat": 4,
 "nbformat_minor": 2
}
